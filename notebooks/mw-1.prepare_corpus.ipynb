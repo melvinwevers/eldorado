{
 "cells": [
  {
   "cell_type": "markdown",
   "metadata": {},
   "source": [
    "# Prepare Corpus\n",
    "This notebook prepares the newspaper data for analysis of metadata and content. "
   ]
  },
  {
   "cell_type": "code",
   "execution_count": 4,
   "metadata": {},
   "outputs": [],
   "source": [
    "import pandas as pd\n",
    "import os\n",
    "import re\n",
    "import sys\n",
    "import unidecode\n",
    "from os import listdir\n",
    "from os.path import isfile, join\n",
    "from tqdm import tqdm\n",
    "\n",
    "sys.path.append('../')"
   ]
  },
  {
   "cell_type": "markdown",
   "metadata": {},
   "source": [
    "## Functions"
   ]
  },
  {
   "cell_type": "code",
   "execution_count": 5,
   "metadata": {},
   "outputs": [],
   "source": [
    "def digit_perc(x):\n",
    "    '''\n",
    "    function to calculate the percentage of digits in a text\n",
    "    '''\n",
    "    return round(sum(c.isdigit() for c in str(x)) / len(str(x)), 4)"
   ]
  },
  {
   "cell_type": "markdown",
   "metadata": {},
   "source": [
    "# Preparing Metadata"
   ]
  },
  {
   "cell_type": "code",
   "execution_count": 19,
   "metadata": {},
   "outputs": [],
   "source": [
    "data_path = '../../../datasets/newspapers_clean/'"
   ]
  },
  {
   "cell_type": "code",
   "execution_count": null,
   "metadata": {},
   "outputs": [],
   "source": [
    "# here we go through the list of datafiles and preprocess the data and calculate some additional features\n",
    "\n",
    "results = []\n",
    "subdirs = ['ads']\n",
    "for root, dirs, files in os.walk(data_path):\n",
    "    if all(subdir in dirs for subdir in subdirs):\n",
    "        results.append(os.path.join(root,subdirs[0]))\n",
    "\n",
    "\n",
    "regex_pat = re.compile(r'[^a-zA-Z\\s]', flags=re.IGNORECASE)\n",
    "meta_data = []\n",
    "\n",
    "for path in results[0:1]:\n",
    "    print(path)\n",
    "    frame = []\n",
    "    onlyfiles = [f for f in listdir(path) if isfile(join(path, f))]\n",
    "    onlyfiles = [f for f in onlyfiles if f.endswith('.tsv')]\n",
    "    newspaper_name = path.split('/')[5]\n",
    "    newspaper_years = []\n",
    "    for filename in tqdm(onlyfiles):\n",
    "        print(filename)\n",
    "        df = pd.read_csv(os.path.join(path, filename), index_col=None, delimiter='\\t')\n",
    "        df['perc_digits'] = df['ocr'].apply(lambda x: digit_perc(x))\n",
    "        df['ocr'] = df['ocr'].astype(str)\n",
    "        df['ocr'] = df['ocr'].apply(lambda x: unidecode.unidecode(x)) \n",
    "        df['ocr'] = df['ocr'].str.replace(regex_pat, '') #only words\n",
    "        df['ocr'] = df['ocr'].str.findall(r'\\w{2,}').str.join(' ').str.lower() #only words longer than 2 chars\n",
    "        df['identifier'] = df['ocr_url'].apply(lambda x: x.split('/')[:][3][12:-4])\n",
    "        df['string_length'] = df['ocr'].str.len()\n",
    "        df['character_proportion'] = df['string_length'] / df ['size']\n",
    "        #ocr = df[['identifier', 'ocr']]\n",
    "        df.drop('ocr', axis=1, inplace=True)\n",
    "        df['newspaper_name'] = 'nrc'\n",
    "        #ocr.to_csv(os.path.join(path, 'ocr_' + filename), sep='\\t', index=None)\n",
    "        newspaper_years.append(df)\n",
    "\n",
    "    frame = pd.concat(newspaper_years, axis=0, ignore_index=True)\n",
    "    meta_data.append(frame)\n",
    "\n",
    "meta_data = pd.concat(meta_data, axis=0, ignore_index=True)\n",
    "\n"
   ]
  },
  {
   "cell_type": "code",
   "execution_count": 28,
   "metadata": {},
   "outputs": [],
   "source": [
    "# we remove ads with height or width smaller than 100 px\n",
    "meta_data = meta_data[(meta_data['h'] >= 100) & (meta_data['w'] >= 100)] \n",
    "meta_data.to_csv(os.path.join(data_path,'full_metadata.csv'))"
   ]
  }
 ],
 "metadata": {
  "kernelspec": {
   "display_name": "Python 3",
   "language": "python",
   "name": "python3"
  },
  "language_info": {
   "codemirror_mode": {
    "name": "ipython",
    "version": 3
   },
   "file_extension": ".py",
   "mimetype": "text/x-python",
   "name": "python",
   "nbconvert_exporter": "python",
   "pygments_lexer": "ipython3",
   "version": "3.7.6"
  }
 },
 "nbformat": 4,
 "nbformat_minor": 2
}
